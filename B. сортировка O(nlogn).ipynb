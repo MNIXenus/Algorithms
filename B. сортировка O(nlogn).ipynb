{
 "cells": [
  {
   "cell_type": "code",
   "execution_count": null,
   "metadata": {},
   "outputs": [],
   "source": [
    "import random\n",
    "def generator(start = 0, end = 10, length = 10):\n",
    "    arr = []\n",
    "    for i in range(length):\n",
    "        arr.append(random.randint(start, end))\n",
    "    return(arr)"
   ]
  },
  {
   "cell_type": "code",
   "execution_count": 30,
   "metadata": {},
   "outputs": [],
   "source": [
    "#merge ver. 1.0\n",
    "def merge_sort(inp_arr):\n",
    "    arr1, arr2 = inp_arr[:len(inp_arr)//2], inp_arr[len(inp_arr)//2:]\n",
    "    arr = []\n",
    "    if len(inp_arr) > 2:\n",
    "        arr1 = merge_sort(arr1)\n",
    "        arr2 = merge_sort(arr2)\n",
    "    for i in range(len(arr1)+len(arr2)):\n",
    "        if len(arr1) == 0:\n",
    "            arr.append(arr2.pop(0))\n",
    "        elif len(arr2) == 0:\n",
    "            arr.append(arr1.pop(0))\n",
    "        elif arr1[0] > arr2[0]:\n",
    "            arr.append(arr2.pop(0))\n",
    "        elif arr1[0] < arr2[0]:\n",
    "            arr.append(arr1.pop(0))\n",
    "        elif arr1[0] == arr2[0]:\n",
    "            arr.append(arr1.pop(0))\n",
    "    return(arr)"
   ]
  },
  {
   "cell_type": "code",
   "execution_count": 139,
   "metadata": {},
   "outputs": [],
   "source": [
    "#merge ver. 1.1\n",
    "def merge_sort(arr):\n",
    "    arr1, arr2 = arr[:len(arr)//2], arr[len(arr)//2:]\n",
    "    if len(arr) > 2:\n",
    "        arr1 = merge_sort(arr1)\n",
    "        arr2 = merge_sort(arr2)\n",
    "    arr = []\n",
    "    for i in range(len(arr1)+len(arr2)):\n",
    "        if len(arr1) == 0:\n",
    "            arr.append(arr2.pop(0))\n",
    "        elif len(arr2) == 0:\n",
    "            arr.append(arr1.pop(0))\n",
    "        elif arr1[0] > arr2[0]:\n",
    "            arr.append(arr2.pop(0))\n",
    "        elif arr1[0] < arr2[0] or arr1[0] == arr2[0]:\n",
    "            arr.append(arr1.pop(0))\n",
    "    return(arr)"
   ]
  },
  {
   "cell_type": "code",
   "execution_count": 141,
   "metadata": {},
   "outputs": [
    {
     "name": "stdout",
     "output_type": "stream",
     "text": [
      "[2, 3, 4, 5, 6, 6, 7, 8, 8, 11, 12, 13, 13, 14, 15, 15, 16, 20, 21, 24, 26, 27, 28, 29, 31, 31, 32, 32, 32, 36, 39, 39, 39, 41, 41, 42, 43, 43, 43, 44, 45, 46, 47, 47, 47, 48, 48, 49, 51, 51, 55, 56, 58, 59, 59, 65, 66, 67, 68, 68, 69, 69, 69, 69, 69, 71, 73, 75, 76, 76, 77, 77, 78, 78, 79, 80, 81, 81, 81, 82, 83, 85, 86, 86, 87, 88, 88, 88, 88, 93, 94, 95, 95, 96, 96, 97, 97, 98, 99, 100] 100\n"
     ]
    }
   ],
   "source": [
    "arr = generator(0, 100, 100)\n",
    "print(merge_sort(arr), len(merge_sort(arr)))"
   ]
  },
  {
   "cell_type": "code",
   "execution_count": 2,
   "metadata": {},
   "outputs": [
    {
     "data": {
      "text/plain": [
       "18"
      ]
     },
     "execution_count": 2,
     "metadata": {},
     "output_type": "execute_result"
    }
   ],
   "source": [
    "#answer merge\n",
    "inp_arr = list(map(int, open('input.txt').read().split()))[1:]\n",
    "def merge_sort(arr):\n",
    "    arr1, arr2 = arr[:len(arr)//2], arr[len(arr)//2:]\n",
    "    if len(arr) > 2:\n",
    "        arr1 = merge_sort(arr1)\n",
    "        arr2 = merge_sort(arr2)\n",
    "    arr = []\n",
    "    for i in range(len(arr1)+len(arr2)):\n",
    "        if len(arr1) == 0:\n",
    "            arr.append(arr2.pop(0))\n",
    "        elif len(arr2) == 0:\n",
    "            arr.append(arr1.pop(0))\n",
    "        elif arr1[0] > arr2[0]:\n",
    "            arr.append(arr2.pop(0))\n",
    "        elif arr1[0] < arr2[0]:\n",
    "            arr.append(arr1.pop(0))\n",
    "        elif arr1[0] == arr2[0]:\n",
    "            arr.append(arr1.pop(0))\n",
    "    return(arr)\n",
    "open('output.txt', 'w').write(str(merge_sort(inp_arr))[1:-1].replace(',', ''))"
   ]
  },
  {
   "cell_type": "code",
   "execution_count": 2,
   "metadata": {},
   "outputs": [
    {
     "data": {
      "text/plain": [
       "12"
      ]
     },
     "execution_count": 2,
     "metadata": {},
     "output_type": "execute_result"
    }
   ],
   "source": [
    "#answer quicksort\n",
    "inp_arr = list(map(int, open('input.txt').read().split()))[1:]\n",
    "def quicksort(arr):\n",
    "    if len(arr) == 0: return arr\n",
    "    else:\n",
    "        pivot = arr[len(arr)//2]\n",
    "        under, equal, larger = [], [], []\n",
    "        for i in range(len(arr)):\n",
    "            if arr[i] < pivot:\n",
    "                under.append(arr[i])\n",
    "            elif arr[i] == pivot:\n",
    "                equal.append(arr[i])\n",
    "            else: larger.append(arr[i])\n",
    "        under = quicksort(under)\n",
    "        larger = quicksort(larger)\n",
    "        arr = under+equal+larger\n",
    "    return(arr)\n",
    "open('output.txt', 'w').write(str(quicksort(inp_arr))[1:-1].replace(',', ''))"
   ]
  }
 ],
 "metadata": {
  "kernelspec": {
   "display_name": "Python 3",
   "language": "python",
   "name": "python3"
  },
  "language_info": {
   "codemirror_mode": {
    "name": "ipython",
    "version": 3
   },
   "file_extension": ".py",
   "mimetype": "text/x-python",
   "name": "python",
   "nbconvert_exporter": "python",
   "pygments_lexer": "ipython3",
   "version": "3.7.1"
  }
 },
 "nbformat": 4,
 "nbformat_minor": 2
}
