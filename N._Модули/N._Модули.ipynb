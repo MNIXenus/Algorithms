{
 "cells": [
  {
   "cell_type": "code",
   "execution_count": 4,
   "metadata": {},
   "outputs": [
    {
     "data": {
      "text/plain": [
       "1"
      ]
     },
     "execution_count": 4,
     "metadata": {},
     "output_type": "execute_result"
    }
   ],
   "source": [
    "from queue import Queue\n",
    "input_file = list(map(int, open('input.txt', 'r').read().split()))\n",
    "N, M = input_file[:2]\n",
    "adj_ = input_file[2:]\n",
    "visited = [False]*N\n",
    "adj = [[] for i in range(N)]\n",
    "count = 0\n",
    "for i in range(0, 2 * M, 2):\n",
    "    x, y = adj_[i], adj_[i+1]\n",
    "    adj[x-1].append(y-1)\n",
    "    adj[y-1].append(x-1)\n",
    "for i in range(N):\n",
    "        if visited[i] == True: continue\n",
    "        visited[i] = True\n",
    "        queue = Queue()\n",
    "        queue.put(i)\n",
    "        while not queue.empty():\n",
    "            vtx = queue.get()\n",
    "            for j in adj[vtx]:\n",
    "                if visited[j] == False:\n",
    "                    visited[j] = True\n",
    "                    queue.put(j)\n",
    "        count += 1\n",
    "open('output.txt', 'w').write(str(count))"
   ]
  },
  {
   "cell_type": "code",
   "execution_count": null,
   "metadata": {},
   "outputs": [],
   "source": [
    "input_file = open('input.txt', 'r')\n",
    "N, M = list(map(int, input_file.readline().split()))\n",
    "vcs = list(range(N))\n",
    "mrk = [0]*N\n",
    "adj = [[0]*N for i in range(N)]\n",
    "count = 0\n",
    "for i in range(len(adj)):\n",
    "    adj[i][i] = 1\n",
    "for i in range(M):\n",
    "    x, y = list(map(int, input_file.readline().split()))\n",
    "    adj[x-1][y-1], adj[y-1][x-1] = 1, 1\n",
    "input_file.close()\n"
   ]
  },
  {
   "cell_type": "code",
   "execution_count": 140,
   "metadata": {},
   "outputs": [
    {
     "data": {
      "text/plain": [
       "1"
      ]
     },
     "execution_count": 140,
     "metadata": {},
     "output_type": "execute_result"
    }
   ],
   "source": [
    "#матрица смежности\n",
    "input_file = open('input.txt', 'r')\n",
    "N, M = list(map(int, input_file.readline().split()))\n",
    "vcs = list(range(N))\n",
    "mrk = [0]*N\n",
    "adj = [[0]*N for i in range(N)]\n",
    "count = 0\n",
    "for i in range(len(adj)):\n",
    "    adj[i][i] = 1\n",
    "for i in range(M):\n",
    "    x, y = list(map(int, input_file.readline().split()))\n",
    "    adj[x-1][y-1], adj[y-1][x-1] = 1, 1\n",
    "input_file.close()\n",
    "while 0 in mrk:\n",
    "    count+=1\n",
    "    for i in vcs:\n",
    "        if mrk[i] == 0:\n",
    "            mrk[i] = 1\n",
    "            break\n",
    "    for i in vcs:\n",
    "        if mrk[i] == 1:\n",
    "            mrk[i] = 2\n",
    "            for j in vcs:\n",
    "                if adj[i][j] and i != j:\n",
    "                    if mrk[j] != 2:\n",
    "                        mrk[j] = 1\n",
    "#open('output.txt', 'w').write(str(count))\n",
    "count"
   ]
  },
  {
   "cell_type": "code",
   "execution_count": 168,
   "metadata": {},
   "outputs": [
    {
     "data": {
      "text/plain": [
       "1"
      ]
     },
     "execution_count": 168,
     "metadata": {},
     "output_type": "execute_result"
    }
   ],
   "source": [
    "from itertools import zip_longest\n",
    "#словарь смежности:)\n",
    "input_file = list(map(int, open('input.txt', 'r').read().split()))\n",
    "N, M = input_file[:2]\n",
    "adj = tuple(zip_longest(*[iter(input_file[2:])]*2))\n",
    "#adj_ = list(zip(input_file[2:][::2], input_file[2:][1::2]))\n",
    "vcs = {i:[] for i in range(1, N+1)}\n",
    "mrk = [0]*(N)\n",
    "count = 0\n",
    "for i in adj:\n",
    "    vcs[i[0]].append(i[1])\n",
    "    vcs[i[1]].append(i[0])\n",
    "while 0 in mrk:\n",
    "    count+=1\n",
    "    for i in vcs:\n",
    "        if mrk[i-1] == 0:\n",
    "            mrk[i-1] = 1\n",
    "            break\n",
    "    for i in vcs:\n",
    "        if mrk[i-1] == 1:\n",
    "            mrk[i-1] = 2\n",
    "            for j in vcs:\n",
    "                if j in vcs[i]:\n",
    "                    if mrk[j-1] != 2 and i != j:\n",
    "                        mrk[j-1] = 1\n",
    "open('output.txt', 'w').write(str(count))"
   ]
  },
  {
   "cell_type": "code",
   "execution_count": 173,
   "metadata": {},
   "outputs": [
    {
     "data": {
      "text/plain": [
       "1"
      ]
     },
     "execution_count": 173,
     "metadata": {},
     "output_type": "execute_result"
    }
   ],
   "source": [
    "#матрица смежности с изм. чтением\n",
    "#from itertools import zip_longest\n",
    "input_file = list(map(int, open('input.txt', 'r').read().split()))\n",
    "N, M = input_file[:2]\n",
    "#adj_ = list(zip(input_file[2:][::2], input_file[2:][1::2]))\n",
    "#adj_ = tuple(zip_longest(*[iter(input_file[2:])]*2))\n",
    "adj_ = input_file\n",
    "vcs = list(range(N))\n",
    "mrk = [0]*N\n",
    "adj = [[0]*N for i in range(N)]\n",
    "count = 0\n",
    "for i in range(len(adj)):\n",
    "    adj[i][i] = 1\n",
    "for i in range(2, 2 * M + 1, 2):\n",
    "    x, y = adj_[i], adj_[i+1]\n",
    "    adj[x-1][y-1], adj[y-1][x-1] = 1, 1\n",
    "while 0 in mrk:\n",
    "    count+=1\n",
    "    for i in vcs:\n",
    "        if mrk[i] == 0:\n",
    "            mrk[i] = 1\n",
    "            break\n",
    "    for i in vcs:\n",
    "        if mrk[i] == 1:\n",
    "            mrk[i] = 2\n",
    "            for j in vcs:\n",
    "                if adj[i][j] and i != j:\n",
    "                    if mrk[j] != 2:\n",
    "                        mrk[j] = 1\n",
    "open('output.txt', 'w').write(str(count))"
   ]
  },
  {
   "cell_type": "code",
   "execution_count": 159,
   "metadata": {},
   "outputs": [
    {
     "data": {
      "text/plain": [
       "[[1, 1, 0, 0, 0, 0, 0, 0, 1],\n",
       " [1, 1, 0, 1, 0, 0, 0, 0, 0],\n",
       " [0, 0, 1, 0, 0, 0, 0, 0, 1],\n",
       " [0, 1, 0, 1, 0, 0, 0, 0, 0],\n",
       " [0, 0, 0, 0, 1, 0, 0, 0, 1],\n",
       " [0, 0, 0, 0, 0, 1, 0, 0, 1],\n",
       " [0, 0, 0, 0, 0, 0, 1, 0, 1],\n",
       " [0, 0, 0, 0, 0, 0, 0, 1, 1],\n",
       " [1, 0, 1, 0, 1, 1, 1, 1, 1]]"
      ]
     },
     "execution_count": 159,
     "metadata": {},
     "output_type": "execute_result"
    }
   ],
   "source": [
    "adj"
   ]
  },
  {
   "cell_type": "code",
   "execution_count": 63,
   "metadata": {},
   "outputs": [
    {
     "data": {
      "text/plain": [
       "[4, 3, 2, 3, 4, 2, 1, 2, 2]"
      ]
     },
     "execution_count": 63,
     "metadata": {},
     "output_type": "execute_result"
    }
   ],
   "source": [
    "#степени вершин графа\n",
    "input_file = open('input.txt', 'r')\n",
    "N, M = list(map(int, input_file.readline().split()))\n",
    "vcs = list(range(N))\n",
    "mrk = [0]*N\n",
    "adj = [[0]*N for i in range(N)]\n",
    "for i in range(len(adj)):\n",
    "    adj[i][i] = 1\n",
    "for i in range(M):\n",
    "    x, y = list(map(int, input_file.readline().split()))\n",
    "    adj[x-1][y-1], adj[y-1][x-1] = 1, 1\n",
    "input_file.close()\n",
    "for i in vcs:\n",
    "    for j in vcs:\n",
    "        if adj[i][j]:\n",
    "            mrk[i] +=1\n",
    "mrk"
   ]
  }
 ],
 "metadata": {
  "kernelspec": {
   "display_name": "Python 3",
   "language": "python",
   "name": "python3"
  },
  "language_info": {
   "codemirror_mode": {
    "name": "ipython",
    "version": 3
   },
   "file_extension": ".py",
   "mimetype": "text/x-python",
   "name": "python",
   "nbconvert_exporter": "python",
   "pygments_lexer": "ipython3",
   "version": "3.7.1"
  }
 },
 "nbformat": 4,
 "nbformat_minor": 2
}
