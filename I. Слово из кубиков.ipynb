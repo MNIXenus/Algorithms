{
 "cells": [
  {
   "cell_type": "code",
   "execution_count": null,
   "metadata": {},
   "outputs": [],
   "source": [
    "input_file = open('input.txt', 'r')\n",
    "N = int(input_file.readline())\n",
    "word = input_file.readline().replace(\"\\n\", \"\")\n",
    "arr = []\n",
    "for i in range(N):\n",
    "    arr.append([i, input_file.readline().replace(\"\\n\", \"\")])\n",
    "for i in range(len(arr)):\n",
    "    for j in word:\n",
    "        if j in arr[i][1]:\n",
    "            arr[i].append(1)\n",
    "        else:\n",
    "            arr[i].append(0)\n",
    "    arr[i].append(sum(arr[i][2:]))\n",
    "arr = sorted(arr, key = lambda x: x[-1])\n",
    "cubes = []\n",
    "for i in range(len(word)):\n",
    "    cubes.append([])\n",
    "    for j in arr:\n",
    "        if j[2:-1][i] == 1 and j not in cubes and (cubes[i] == [] or cubes[i][-1] > j[-1]):\n",
    "            cubes[i] = j\n",
    "answer = []\n",
    "if [] in cubes: answer = '0'\n",
    "else:\n",
    "    for i in cubes:\n",
    "        answer.append(i[0])\n",
    "answer = str(answer)[1:-1].replace(',', '')\n",
    "_ = open('output.txt', 'w').write(answer)"
   ]
  },
  {
   "cell_type": "code",
   "execution_count": null,
   "metadata": {},
   "outputs": [],
   "source": [
    "#2.0, ненадежна\n",
    "input_file = open('input.txt', 'r')\n",
    "N = int(input_file.readline())\n",
    "word = input_file.readline().replace(\"\\n\", \"\")\n",
    "arr = []\n",
    "for i in range(N):\n",
    "    arr.append([i, input_file.readline().replace(\"\\n\", \"\")])\n",
    "for i in range(len(arr)):\n",
    "    for j in word:\n",
    "        if j in arr[i][1]:\n",
    "            arr[i].append(1)\n",
    "        else:\n",
    "            arr[i].append(0)\n",
    "for i in range(len(arr)):\n",
    "    arr[i].append(sum(arr[i][2:]))\n",
    "arr = sorted(arr, key = lambda x: x[-1])\n",
    "cubes = []\n",
    "for i in range(len(word)):\n",
    "    cubes.append([])\n",
    "    for j in arr:\n",
    "        if j[2:-1][i] == 1 and j[0]+1 not in cubes:\n",
    "            cubes[i] = (j[0]+1)\n",
    "if [] in cubes: answer = '0'\n",
    "else: answer = str(cubes)[1:-1].replace(',', '')\n",
    "open('output.txt', 'w').write(answer)"
   ]
  },
  {
   "cell_type": "code",
   "execution_count": null,
   "metadata": {},
   "outputs": [],
   "source": [
    "input_file = open('input.txt', 'r')\n",
    "N = int(input_file.readline())\n",
    "word = input_file.readline().replace(\"\\n\", \"\")\n",
    "arr_words = [input_file.readline().replace(\"\\n\", \"\") for i in range(N)]\n",
    "overlaps = {i:[] for i in range(len(word))}\n",
    "for i in range(len(word)):\n",
    "    for j in range(len(arr_words)):\n",
    "        if word[i] in arr_words[j]:\n",
    "            overlaps[i].append(j)"
   ]
  },
  {
   "cell_type": "code",
   "execution_count": null,
   "metadata": {},
   "outputs": [],
   "source": [
    "import itertools\n",
    "def overlap(perm): #можно ли составить слово из кубиков, возвращает True/False\n",
    "    words = [arr_words[_] for _ in perm]\n",
    "    for i in range(len(word)):\n",
    "        if word[i] not in words[i]:\n",
    "            return(False)\n",
    "    return(True)\n",
    "input_file = open('input.txt', 'r')\n",
    "N = int(input_file.readline())\n",
    "word = input_file.readline().replace(\"\\n\", \"\")\n",
    "arr_words = [input_file.readline().replace(\"\\n\", \"\") for i in range(N)]\n",
    "answer = ''\n",
    "if len(word) > len(arr_words):\n",
    "    answer = '0'\n",
    "else:\n",
    "    \n",
    "if answer == '': answer = '0'\n",
    "_ = open('output.txt', 'w').write(answer)"
   ]
  },
  {
   "cell_type": "code",
   "execution_count": null,
   "metadata": {},
   "outputs": [],
   "source": []
  },
  {
   "cell_type": "code",
   "execution_count": null,
   "metadata": {},
   "outputs": [],
   "source": [
    "cubes\n"
   ]
  },
  {
   "cell_type": "code",
   "execution_count": null,
   "metadata": {},
   "outputs": [],
   "source": [
    "import itertools\n",
    "def overlap(perm):\n",
    "    words = [cubes[_] for _ in perm]\n",
    "    for i in range(len(word)):\n",
    "        if len(set(word[i]).intersection(words[i])) == 0:\n",
    "            return(False)\n",
    "    return(True)\n",
    "input_file = open('input.txt', 'r')\n",
    "N = int(input_file.readline())\n",
    "word = input_file.readline().replace(\"\\n\", \"\")\n",
    "cubes = dict(enumerate([input_file.readline().replace(\"\\n\", \"\") for i in range(N)]))\n",
    "matching_cubes = [i for i in cubes if set(word).intersection(set(cubes[i]))]\n",
    "answer = '0'\n",
    "if len(word) <= len(matching_cubes):\n",
    "    for i in itertools.permutations(matching_cubes):\n",
    "        if overlap(i):\n",
    "            answer = str([j+1 for j in i[:len(word)]])[1:-1].replace(',', '')\n",
    "            break\n",
    "_ = open('output.txt', 'w').write(answer)"
   ]
  },
  {
   "cell_type": "code",
   "execution_count": null,
   "metadata": {},
   "outputs": [],
   "source": [
    "%%time\n",
    "import itertools\n",
    "def overlap(perm):\n",
    "    for i in range(len(word)):\n",
    "        if word[i] != perm[i]:\n",
    "            return False\n",
    "    return True\n",
    "input_file = open('input.txt', 'r')\n",
    "N = int(input_file.readline())\n",
    "word = input_file.readline().replace(\"\\n\", \"\")\n",
    "cubes = dict(enumerate([input_file.readline().replace(\"\\n\", \"\") for i in range(N)]))\n",
    "matching_cubes = [i for i in cubes if set(word).intersection(set(cubes[i]))]\n",
    "answer = '0'\n",
    "overlap_table = [[0]*len(word) for i in range(len(matching_cubes))]\n",
    "for i in range(len(matching_cubes)):\n",
    "        for j in range(len(word)):\n",
    "            if word[j] in cubes[matching_cubes[i]]:\n",
    "                overlap_table[i][j] = 1\n",
    "if len(word) <= len(matching_cubes):\n",
    "    for i in itertools.permutations(matching_cubes, r = len(word)):\n",
    "        if overlap(i):\n",
    "            answer = str([j+1 for j in i[:len(word)]])[1:-1].replace(',', '')\n",
    "            break\n",
    "#_ = open('output.txt', 'w').write(answer)"
   ]
  },
  {
   "cell_type": "code",
   "execution_count": null,
   "metadata": {},
   "outputs": [],
   "source": [
    "from itertools import permutations\n",
    "def match(x):\n",
    "    for i in range(len(x)):\n",
    "        if mtx[x[i]][i] != 1:\n",
    "            return False\n",
    "    return True\n",
    "input_file = open('input.txt', 'r').read().split()\n",
    "word = input_file[1]\n",
    "cubes = dict(enumerate(input_file[2:]))\n",
    "indicies = [i for i in cubes if len(set(word) & set(cubes[i])) != 0]\n",
    "mtx = [[0]*len(word) for i in range(len(cubes))]\n",
    "for i in range(len(cubes)):\n",
    "        for j in range(len(word)):\n",
    "            if word[j] in cubes[i]:\n",
    "                mtx[i][j] = 1\n",
    "answer = '0'\n",
    "for i in permutations(range(len(cubes)), r = len(word)):\n",
    "    if match(i):\n",
    "        answer = str([j+1 for j in i])[1:-1].replace(',', '')\n",
    "        break\n",
    "print(answer)\n",
    "#_ = open('output.txt', 'w').write(answer)"
   ]
  },
  {
   "cell_type": "code",
   "execution_count": null,
   "metadata": {},
   "outputs": [],
   "source": [
    "#generator\n",
    "from random import choices, sample\n",
    "from numpy.random import permutation\n",
    "from string import ascii_uppercase as letters\n",
    "def generator(N = 10, K = 10):\n",
    "    letters_use = letters\n",
    "    word = ''.join(choices(letters_use, k=K))\n",
    "    list_word = list(word)\n",
    "    answer = list(permutation(range(len(word))))\n",
    "    cubes = [[] for i in range(N)]\n",
    "    for i in list_word:\n",
    "        letters_use = letters_use.replace(i, '')\n",
    "    for i in range(N):\n",
    "        if i in answer:\n",
    "            cubes[i] = list_word.pop()+''.join(choices(letters_use, k = K-1))[1:-1]\n",
    "        else:\n",
    "            cubes[i] = ''.join(choices(letters_use, k = K))[1:-1]\n",
    "    return(word, cubes)\n",
    "generator(N = 10, K = 10)"
   ]
  },
  {
   "cell_type": "code",
   "execution_count": 1,
   "metadata": {},
   "outputs": [
    {
     "name": "stdout",
     "output_type": "stream",
     "text": [
      "5 2 1 4 3 6\n"
     ]
    }
   ],
   "source": [
    "#word, all_cubes = generator(N = 7, K = 7)\n",
    "\n",
    "#word = 'MISTAK'\n",
    "#all_cubes = ['MASYAN', 'SLOWPOK', 'CHEESE', 'AREECE', 'OOOOOO', 'KINGSS']\n",
    "#all_cubes = ['MMMMMM', 'IIIIII', 'SSSSSS', 'TTTTTTT', 'AAAAAA', 'KKKKKKK']\n",
    "#all_cubes = dict(enumerate(all_cubes))\n",
    "from itertools import permutations\n",
    "\n",
    "def match(x):\n",
    "    for i in range(len(x)):\n",
    "        if mtx[x[i]][i] != 1:\n",
    "            return False\n",
    "    return True\n",
    "\n",
    "input_file = open('input.txt', 'r').read().split()\n",
    "word = input_file[1]\n",
    "all_cubes = dict(enumerate(input_file[2:]))\n",
    "cubes = [all_cubes[i] for i in all_cubes if len(set(word) & set(all_cubes[i])) != 0]\n",
    "mtx = [[0]*len(word) for i in range(len(cubes))]\n",
    "for i in range(len(cubes)):\n",
    "    for j in range(len(word)):\n",
    "        if word[j] in cubes[i]:\n",
    "            mtx[i][j] = 1\n",
    "answer = '0'\n",
    "for i in permutations(range(len(cubes)), r = len(word)):\n",
    "    if match(i):\n",
    "        answer = []\n",
    "        for j in i:\n",
    "            for k in all_cubes:\n",
    "                if all_cubes[k] == cubes[j]:\n",
    "                    answer.append(k+1)\n",
    "        answer = str(answer)[1:-1].replace(',', '')\n",
    "        break\n",
    "print(answer)\n",
    "#_ = open('output.txt', 'w').write(answer)"
   ]
  },
  {
   "cell_type": "code",
   "execution_count": 5,
   "metadata": {},
   "outputs": [
    {
     "data": {
      "text/plain": [
       "['ABCDAB', 'TTTLTT', 'STSTSO', 'CREATL', 'IRRORS', 'SRRSSL']"
      ]
     },
     "execution_count": 5,
     "metadata": {},
     "output_type": "execute_result"
    }
   ],
   "source": [
    "from itertools import permutations\n",
    "input_file = open('input.txt', 'r').read().split()\n",
    "word = input_file[1]\n",
    "all_cubes = dict(enumerate(input_file[2:]))\n",
    "cubes = [all_cubes[i] for i in all_cubes if len(set(word) & set(all_cubes[i])) != 0]"
   ]
  }
 ],
 "metadata": {
  "kernelspec": {
   "display_name": "Python 3",
   "language": "python",
   "name": "python3"
  },
  "language_info": {
   "codemirror_mode": {
    "name": "ipython",
    "version": 3
   },
   "file_extension": ".py",
   "mimetype": "text/x-python",
   "name": "python",
   "nbconvert_exporter": "python",
   "pygments_lexer": "ipython3",
   "version": "3.7.1"
  }
 },
 "nbformat": 4,
 "nbformat_minor": 2
}
