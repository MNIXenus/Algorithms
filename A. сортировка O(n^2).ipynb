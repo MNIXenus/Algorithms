{
 "cells": [
  {
   "cell_type": "code",
   "execution_count": 3,
   "metadata": {},
   "outputs": [],
   "source": [
    "import numpy as np"
   ]
  },
  {
   "cell_type": "code",
   "execution_count": 4,
   "metadata": {},
   "outputs": [],
   "source": [
    "def generator(start = 0, end = 10, length = 10):\n",
    "    return(np.random.randint(start, end, length))"
   ]
  },
  {
   "cell_type": "code",
   "execution_count": 29,
   "metadata": {},
   "outputs": [
    {
     "name": "stdout",
     "output_type": "stream",
     "text": [
      "Wall time: 0 ns\n"
     ]
    }
   ],
   "source": [
    "%time\n",
    "def squaresort(arr):\n",
    "    for i in np.arange(len(arr)):\n",
    "        k = arr[i]\n",
    "        j = i\n",
    "        while arr[j - 1] > k and j > 0:\n",
    "            arr[j] = arr[j - 1]\n",
    "            j -= 1\n",
    "        arr[j] = k\n",
    "    return(arr)"
   ]
  },
  {
   "cell_type": "code",
   "execution_count": 32,
   "metadata": {},
   "outputs": [
    {
     "name": "stdout",
     "output_type": "stream",
     "text": [
      "[72 31 79 82 85 86 94 42  3 77 75 42 36 26 12 27 90 97 45  6 10 39 17 60\n",
      " 73 33 48 40  9 88 30 53 93 82 93 38 16 30 86 66 75 58 76 68 47 73 28 31\n",
      "  2 13 18 37 50 21 46 26 88 96 70 94 62 40 22 55 45 33  9 86 44 94 94 38\n",
      " 64  5  2 67 17 64  6  9 75 81 87 84 97  6 23  2 38 52 78  1 73 34 77 64\n",
      " 85 27 12]\n",
      "[ 1  2  2  2  3  5  6  6  6  9  9  9 10 12 12 13 16 17 17 18 21 22 23 26\n",
      " 26 27 27 28 30 30 31 31 33 33 34 36 37 38 38 38 39 40 40 42 42 44 45 45\n",
      " 46 47 48 50 52 53 55 58 60 62 64 64 64 66 67 68 70 72 73 73 73 75 75 75\n",
      " 76 77 77 78 79 81 82 82 84 85 85 86 86 86 87 88 88 90 93 93 94 94 94 94\n",
      " 96 97 97]\n"
     ]
    }
   ],
   "source": [
    "arr = generator(1, 99, 99)\n",
    "print(arr)\n",
    "print(squaresort(arr))"
   ]
  },
  {
   "cell_type": "code",
   "execution_count": 53,
   "metadata": {},
   "outputs": [
    {
     "name": "stdout",
     "output_type": "stream",
     "text": [
      " 1  3  3  4  5 10\n"
     ]
    }
   ],
   "source": [
    "import numpy as np\n",
    "arr = np.array(open('input.txt').read().split(), dtype = np.int)\n",
    "#простейшая сортировка.#Для каждого элемента проверяем, меньше ли он, чем предыдущий. Если так, то меняем их местами. Повторяем до false.\n",
    "for i in np.arange(len(arr)):\n",
    "        if arr[i] < arr[i-1] and i != 0:\n",
    "            j = i\n",
    "            while arr[j] < arr[j-1] and j !=0:\n",
    "                arr[j], arr[j-1] = arr[j-1], arr[j]\n",
    "                j -= 1\n",
    "open('output.txt', 'w').write(str(arr)[1:-1])\n",
    "print(str(arr)[1:-1])"
   ]
  },
  {
   "cell_type": "code",
   "execution_count": 19,
   "metadata": {},
   "outputs": [
    {
     "name": "stdout",
     "output_type": "stream",
     "text": [
      "1 3 3 4 10\n"
     ]
    }
   ],
   "source": [
    "arr = list(map(int, open('input.txt').read().split()))[1:]\n",
    "for i in range(len(arr)):\n",
    "    j = i\n",
    "    while arr[j] < arr[j-1] and j > 0:\n",
    "        arr[j], arr[j-1] = arr[j-1], arr[j]\n",
    "        j -= 1\n",
    "open('output.txt', 'w').write(str(arr)[1:-1].replace(',', ''))\n",
    "print(str(arr)[1:-1].replace(',', ''))"
   ]
  },
  {
   "cell_type": "code",
   "execution_count": 33,
   "metadata": {},
   "outputs": [
    {
     "data": {
      "text/plain": [
       "10"
      ]
     },
     "execution_count": 33,
     "metadata": {},
     "output_type": "execute_result"
    }
   ],
   "source": [
    "arr = list(map(int, open('input.txt').read().split()))[1:]\n",
    "for i in range(len(arr)):\n",
    "    k = arr[i]\n",
    "    j = i\n",
    "    while arr[j - 1] > k and j > 0:\n",
    "        arr[j] = arr[j - 1]\n",
    "        j -= 1\n",
    "    arr[j] = k\n",
    "open('output.txt', 'w').write(str(arr)[1:-1].replace(',', ''))"
   ]
  },
  {
   "cell_type": "code",
   "execution_count": 52,
   "metadata": {},
   "outputs": [
    {
     "name": "stdout",
     "output_type": "stream",
     "text": [
      "26\n",
      "26\n"
     ]
    }
   ],
   "source": [
    "arr = list(map(int, open('input.txt').read().split()))\n",
    "arr2 = np.array(open('input.txt').read().split(), dtype = np.int)\n",
    "print(sum(arr))\n",
    "print(sum(arr2))"
   ]
  }
 ],
 "metadata": {
  "kernelspec": {
   "display_name": "Python 3",
   "language": "python",
   "name": "python3"
  },
  "language_info": {
   "codemirror_mode": {
    "name": "ipython",
    "version": 3
   },
   "file_extension": ".py",
   "mimetype": "text/x-python",
   "name": "python",
   "nbconvert_exporter": "python",
   "pygments_lexer": "ipython3",
   "version": "3.7.1"
  }
 },
 "nbformat": 4,
 "nbformat_minor": 2
}
