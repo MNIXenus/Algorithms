{
 "cells": [
  {
   "cell_type": "code",
   "execution_count": 17,
   "metadata": {},
   "outputs": [
    {
     "data": {
      "text/plain": [
       "'YES'"
      ]
     },
     "execution_count": 17,
     "metadata": {},
     "output_type": "execute_result"
    }
   ],
   "source": [
    "def DFS(adj, start):\n",
    "    visited[start] = True\n",
    "    for i in range(N):\n",
    "        if i in adj[start] and not visited[i]:\n",
    "            DFS(adj, i)\n",
    "\n",
    "input_file = list(map(int, open('input.txt', 'r').read().split()))\n",
    "N, M = input_file[:2]\n",
    "adj_ = input_file[2:]\n",
    "visited = [False]*N\n",
    "adj = [[] for i in range(N)]\n",
    "for i in range(0, 2*M, 2):\n",
    "    x, y = adj_[i]-1, adj_[i+1]-1\n",
    "    adj[x].append(y)\n",
    "    adj[y].append(x)\n",
    "    \n",
    "DFS(adj, 0)\n",
    "answer = 'YES'\n",
    "if False in visited or M != N - 1: answer = 'NO'\n",
    "open('output.txt', 'w').write(answer)"
   ]
  },
  {
   "cell_type": "code",
   "execution_count": 66,
   "metadata": {},
   "outputs": [
    {
     "data": {
      "text/plain": [
       "3"
      ]
     },
     "execution_count": 66,
     "metadata": {},
     "output_type": "execute_result"
    }
   ],
   "source": [
    "from queue import Queue\n",
    "\n",
    "class vtx():\n",
    "    def __init__(self, number, color = 0, parent = None):\n",
    "        self.parent = parent\n",
    "        self.color = color\n",
    "        self.number = number\n",
    "\n",
    "def BFS(graph, adj, start):\n",
    "    start.color = 1\n",
    "    queue = Queue()\n",
    "    queue.put(start)\n",
    "    while not queue.empty():\n",
    "        u = queue.get().number\n",
    "        for i in adj[u]:\n",
    "            if graph[i].color == 1 and graph[u].parent != graph[i]: return('NO')\n",
    "            if graph[i].color == 0:\n",
    "                graph[i].color = 1\n",
    "                graph[i].parent = graph[u]\n",
    "                queue.put(graph[i])\n",
    "        graph[u].color = 2\n",
    "    return('YES')\n",
    "\n",
    "input_file = list(map(int, open('input.txt', 'r').read().split()))\n",
    "N, M = input_file[:2]\n",
    "adj_ = input_file[2:]\n",
    "graph = [vtx(i) for i in range(N)]\n",
    "adj = [[] for i in range(N)]\n",
    "mrk = [0]*N\n",
    "for i in range(0, 2*M, 2):\n",
    "    x, y = adj_[i]-1, adj_[i+1]-1\n",
    "    adj[x].append(y)\n",
    "    adj[y].append(x)\n",
    "answer = str(BFS(graph, adj, graph[0]))\n",
    "if answer == 'YES':\n",
    "    for i in range(0, 2*M, 2):\n",
    "        mrk[adj_[i+1]-1] += 1\n",
    "    if mrk.count(0) != 1: answer = 'NO'\n",
    "open('output.txt', 'w').write(answer)"
   ]
  }
 ],
 "metadata": {
  "kernelspec": {
   "display_name": "Python 3",
   "language": "python",
   "name": "python3"
  },
  "language_info": {
   "codemirror_mode": {
    "name": "ipython",
    "version": 3
   },
   "file_extension": ".py",
   "mimetype": "text/x-python",
   "name": "python",
   "nbconvert_exporter": "python",
   "pygments_lexer": "ipython3",
   "version": "3.7.1"
  }
 },
 "nbformat": 4,
 "nbformat_minor": 2
}
