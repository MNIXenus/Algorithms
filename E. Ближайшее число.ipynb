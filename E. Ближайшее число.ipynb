{
 "cells": [
  {
   "cell_type": "code",
   "execution_count": 73,
   "metadata": {},
   "outputs": [],
   "source": [
    "import random\n",
    "def generator(N = 9):\n",
    "    arr = [N]\n",
    "    for i in range(N):\n",
    "        arr.append(random.randint(0, 100))\n",
    "    return(arr)"
   ]
  },
  {
   "cell_type": "code",
   "execution_count": 74,
   "metadata": {},
   "outputs": [
    {
     "name": "stdout",
     "output_type": "stream",
     "text": [
      "[10, 5, 24, 9, 39, 87, 19, 84, 12, 23, 21]\n",
      "[24, 24, 39, 39, 87, 87, 84, 84, 23, 23, 21]\n"
     ]
    }
   ],
   "source": [
    "#input_string = list(map(int, open('input.txt').read().split()))\n",
    "#N = input_string[0]\n",
    "#arr = input_string[1:]\n",
    "\n",
    "input_string = generator(10)\n",
    "arr = input_string\n",
    "out = []\n",
    "for i in range(len(arr)):\n",
    "    flag = False\n",
    "    for j in arr[i:]:\n",
    "        if j <= arr[i]: continue\n",
    "        elif j > arr[i]:\n",
    "            out.append(j)\n",
    "            flag = True\n",
    "            break\n",
    "    if not flag: out.append(arr[i])\n",
    "#open('output.txt', 'w').write(str(out)[1:-1].replace(',', ''))\n",
    "print(arr)\n",
    "print(out)\n",
    "24, 5, 24, 9, 39, 87, 19, 84, 12, 23, 21"
   ]
  },
  {
   "cell_type": "code",
   "execution_count": 83,
   "metadata": {},
   "outputs": [
    {
     "name": "stdout",
     "output_type": "stream",
     "text": [
      "[24, 5, 24, 9, 39, 87, 19, 84, 12, 23, 21]\n"
     ]
    }
   ],
   "source": [
    "#дерево с массивом нод и сохранением исходных индексов. 0-й элемент value - значение, остальные - индексы\n",
    "class Binary_tree():\n",
    "    def __init__(self):\n",
    "        self.root = None\n",
    "        self.nodes_arr = []\n",
    "    class Node():\n",
    "        def __init__(self, value, root = None, shoot_0 = None, shoot_1 = None):\n",
    "            self.value = value\n",
    "            self.root = root\n",
    "            self.shoot_0 = shoot_0\n",
    "            self.shoot_1 = shoot_1\n",
    "    def add(self, value):\n",
    "        if not self.root:\n",
    "            self.root = self.Node(value)\n",
    "            self.nodes_arr.append(self.root)\n",
    "            return()\n",
    "        node = self.Node(value)\n",
    "        root = self.root\n",
    "        while True:\n",
    "            if root.value[0] > node.value[0]:\n",
    "                if not root.shoot_0:\n",
    "                    root.shoot_0, node.root = node, root\n",
    "                    break\n",
    "                else: root = root.shoot_0\n",
    "            if root.value[0] < node.value[0]:\n",
    "                if not root.shoot_1:\n",
    "                    root.shoot_1, node.root = node, root\n",
    "                    break\n",
    "                else: root = root.shoot_1\n",
    "            if root.value[0] == node.value[0]:\n",
    "                #root.value.append(node.value[1])\n",
    "                return()#добавляем к value значение индекса\n",
    "        self.nodes_arr.append(node)\n",
    "def whereIsMyMommy(node, mommy):\n",
    "    while True:\n",
    "        if not mommy.root:\n",
    "            if mommy.value[0] < node.value[0]: return(node)\n",
    "            else: return(mommy.shoot_1)\n",
    "        elif mommy.value[0] < node.value[0]:\n",
    "            mommy = mommy.root\n",
    "            whereIsMyMommy(node, mommy)\n",
    "        else: return(mommy)\n",
    "input_string = list(map(int, open('input.txt').read().split()))\n",
    "#input_string = generator(10)\n",
    "N = input_string[0]\n",
    "#arr = input_string[1:]\n",
    "arr_tree = Binary_tree()\n",
    "for i in list(enumerate(arr)):\n",
    "    arr_tree.add([i[1], i[0]])\n",
    "output = []\n",
    "for i in arr_tree.nodes_arr:\n",
    "    output.append(whereIsMyMommy(i, i).value[0])\n",
    "#open('output.txt', 'w').write(str(output)[1:-1].replace(',', ''))\n",
    "print(output)"
   ]
  },
  {
   "cell_type": "code",
   "execution_count": 118,
   "metadata": {},
   "outputs": [
    {
     "data": {
      "text/plain": [
       "7"
      ]
     },
     "execution_count": 118,
     "metadata": {},
     "output_type": "execute_result"
    }
   ],
   "source": [
    "input_string = list(map(int, open('input.txt').read().split()))\n",
    "N = input_string[0]\n",
    "arr = input_string[1:]\n",
    "stack = []\n",
    "for i in range(len(arr)):\n",
    "    if len(stack) == 0 or arr[stack[-1]] >= arr[i]:\n",
    "        stack.append(i)\n",
    "        continue\n",
    "    else: \n",
    "        while len(stack) != 0 and arr[stack[-1]] < arr[i]:\n",
    "            arr[stack.pop()] = arr[i]\n",
    "        stack.append(i)\n",
    "open('output.txt', 'w').write(str(arr)[1:-1].replace(',', ''))\n",
    "#input_string = generator(10)\n",
    "#arr = input_string.copy()\n",
    "\n",
    "#print(input_string)\n",
    "#print(arr)"
   ]
  }
 ],
 "metadata": {
  "kernelspec": {
   "display_name": "Python 3",
   "language": "python",
   "name": "python3"
  },
  "language_info": {
   "codemirror_mode": {
    "name": "ipython",
    "version": 3
   },
   "file_extension": ".py",
   "mimetype": "text/x-python",
   "name": "python",
   "nbconvert_exporter": "python",
   "pygments_lexer": "ipython3",
   "version": "3.7.1"
  }
 },
 "nbformat": 4,
 "nbformat_minor": 2
}
