{
 "cells": [
  {
   "cell_type": "code",
   "execution_count": 39,
   "metadata": {},
   "outputs": [],
   "source": [
    "#W, H, N = 4, 760, 218 #872\n",
    "#W, H, N = 2, 3, 10 #9\n",
    "W, H, N = list(map(int, open('diploma.in', 'r').readline().split()))\n",
    "L_min = 0\n",
    "L_max = max(W*N, H*N)\n",
    "while L_min != L_max:\n",
    "    L = L_min + (L_max - L_min)//2\n",
    "    if (L//W)*(L//H) < N:\n",
    "        L_min = L + 1\n",
    "    else:\n",
    "        L_max = L\n",
    "_ = open('diploma.out', 'w').write(str(L_min))"
   ]
  }
 ],
 "metadata": {
  "kernelspec": {
   "display_name": "Python 3",
   "language": "python",
   "name": "python3"
  },
  "language_info": {
   "codemirror_mode": {
    "name": "ipython",
    "version": 3
   },
   "file_extension": ".py",
   "mimetype": "text/x-python",
   "name": "python",
   "nbconvert_exporter": "python",
   "pygments_lexer": "ipython3",
   "version": "3.7.1"
  }
 },
 "nbformat": 4,
 "nbformat_minor": 2
}
