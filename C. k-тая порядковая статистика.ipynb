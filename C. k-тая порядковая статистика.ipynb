{
 "cells": [
  {
   "cell_type": "code",
   "execution_count": 3,
   "metadata": {},
   "outputs": [],
   "source": [
    "import random\n",
    "def generator(start = 0, end = 10, length = 10):\n",
    "    arr = []\n",
    "    for i in range(length):\n",
    "        arr.append(random.randint(start, end))\n",
    "    return(arr)"
   ]
  },
  {
   "cell_type": "code",
   "execution_count": 119,
   "metadata": {},
   "outputs": [],
   "source": [
    "#ver 1.0\n",
    "def partition(arr, left, right):\n",
    "    p_ind = len(arr)//2\n",
    "    pivot = arr[p_ind]\n",
    "    s_ind = left\n",
    "    for i in range(left, right+1):\n",
    "        if arr[i] < pivot:\n",
    "            if arr[s_ind] != arr[i]:\n",
    "                arr[s_ind], arr[i] = arr[i], arr[s_ind]\n",
    "            else:\n",
    "                arr[p_ind], arr[p_ind+1], arr[i] = arr[p_ind+1], arr[i], arr[p_ind]\n",
    "                p_ind +=1\n",
    "            s_ind += 1\n",
    "    arr[p_ind], arr[s_ind] = arr[s_ind], arr[p_ind]\n",
    "    return(arr[left: right+1], \"index of pivot start\", len(arr)//2, \"pivot\", pivot, \"index of pivot end\", s_ind, arr[s_ind])\n",
    "def order_statistic(arr, k):\n",
    "    left = 0\n",
    "    right = len(arr)-1\n",
    "    while True:\n",
    "        pivot_ind = partition(arr, left, right)\n",
    "        if pivot_ind > k:\n",
    "            right = pivot_ind\n",
    "        elif pivot_ind == k:\n",
    "            return(arr[k])\n",
    "        else: left = pivot_ind"
   ]
  },
  {
   "cell_type": "code",
   "execution_count": 264,
   "metadata": {},
   "outputs": [
    {
     "ename": "IndentationError",
     "evalue": "unindent does not match any outer indentation level (<tokenize>, line 19)",
     "output_type": "error",
     "traceback": [
      "\u001b[1;36m  File \u001b[1;32m\"<tokenize>\"\u001b[1;36m, line \u001b[1;32m19\u001b[0m\n\u001b[1;33m    return(arr)\u001b[0m\n\u001b[1;37m    ^\u001b[0m\n\u001b[1;31mIndentationError\u001b[0m\u001b[1;31m:\u001b[0m unindent does not match any outer indentation level\n"
     ]
    }
   ],
   "source": [
    "#ver 2.0\n",
    "def partition(arr):\n",
    "    if len(arr) == 2:\n",
    "        if arr[0] > arr[1]:\n",
    "            arr [1], arr[0] = arr[0], arr[1]\n",
    "    elif len(arr) != [] or len(arr) != 1:\n",
    "        p_ind = len(arr)//2\n",
    "        c_ind = 0\n",
    "        for i in range(len(arr)):\n",
    "            if arr[i] < arr[p_ind]:\n",
    "                if c_ind < p_ind:\n",
    "                    arr[c_ind], arr[i] = arr[i], arr[c_ind]\n",
    "                elif c_ind == p_ind:\n",
    "                    arr[p_ind+1], arr[i], arr[p_ind] = arr[p_ind], arr[p_ind+1], arr[i]\n",
    "                    p_ind += 1\n",
    "                c_ind += 1\n",
    "        if c_ind >= 3:\n",
    "            partition(arr[:c_ind])\n",
    "            partition(arr[c_ind:])\n",
    "    return(arr)\n",
    "#[:c_ind], arr[c_ind:])"
   ]
  },
  {
   "cell_type": "code",
   "execution_count": 3,
   "metadata": {},
   "outputs": [],
   "source": [
    "#ver 3.0. \n",
    "def partition(arr, left, right): #Сортирует по пивоту, возвращает его индекс\n",
    "    p_ind = right\n",
    "    c_ind = left\n",
    "    for i in range(len(arr[left:right])):\n",
    "        if arr[i] < arr[p_ind]:\n",
    "            arr[i], arr[c_ind] = arr[c_ind], arr[i]\n",
    "            c_ind += 1\n",
    "    arr[p_ind], arr[c_ind] = arr[c_ind], arr[p_ind]\n",
    "    return(c_ind)\n",
    "def order_statistic(arr, k):\n",
    "    left = 0\n",
    "    right = len(arr)-1\n",
    "    while True:\n",
    "        p_ind = partition(arr, left, right)\n",
    "        if p_ind > k:\n",
    "            right = p_ind\n",
    "        elif p_ind < k:\n",
    "            left = p_ind + 1\n",
    "        else: return(arr[k])"
   ]
  },
  {
   "cell_type": "code",
   "execution_count": 434,
   "metadata": {},
   "outputs": [
    {
     "data": {
      "text/plain": [
       "1"
      ]
     },
     "execution_count": 434,
     "metadata": {},
     "output_type": "execute_result"
    }
   ],
   "source": [
    "arr = generator(0, 1000, 1000000)\n",
    "#arr = [81, 71, 72, 37, 15, 18, 37, 37, 85, 70]\n",
    "arr_sorted = sorted(arr)\n",
    "#print(partition(arr, 0, 9))\n",
    "#print(arr)\n",
    "#print(order_statistic(arr, 4))\n",
    "#print(arr_sorted)\n",
    "order_statistic(arr, 4)"
   ]
  },
  {
   "cell_type": "code",
   "execution_count": 193,
   "metadata": {},
   "outputs": [],
   "source": [
    "def partition(arr, left, right):\n",
    "    p_ind = right-1\n",
    "    c_ind = left\n",
    "    for i in range(left, right):\n",
    "        if arr[i] < arr[p_ind]:\n",
    "            arr[i], arr[c_ind] = arr[c_ind], arr[i]\n",
    "            c_ind += 1\n",
    "    arr[p_ind], arr[c_ind] = arr[c_ind], arr[p_ind]\n",
    "    return(c_ind)\n",
    "def order_statistic(arr, k):\n",
    "    left = 0\n",
    "    right = len(arr)\n",
    "    p_ind = 0\n",
    "    while True:\n",
    "        r = partition(arr, left, right)\n",
    "        if p_ind == r: return(arr[k])\n",
    "        else: p_ind = r\n",
    "        if p_ind > k:\n",
    "            right = p_ind\n",
    "        elif p_ind < k:\n",
    "            left = p_ind+1\n",
    "        else: return(arr[k])"
   ]
  },
  {
   "cell_type": "code",
   "execution_count": 618,
   "metadata": {},
   "outputs": [
    {
     "data": {
      "text/plain": [
       "5"
      ]
     },
     "execution_count": 618,
     "metadata": {},
     "output_type": "execute_result"
    }
   ],
   "source": [
    "Q, V, P, N, K = list(map(int, open('input.txt').read().split()))\n",
    "arr = [P]\n",
    "for i in range(N-1):\n",
    "    arr.append((arr[i]*Q) % V)\n",
    "def partition(arr, left, right):\n",
    "    p_ind = right-1\n",
    "    c_ind = left\n",
    "    for i in range(left, right):\n",
    "        if arr[i] < arr[p_ind]:\n",
    "            arr[i], arr[c_ind] = arr[c_ind], arr[i]\n",
    "            c_ind += 1\n",
    "    arr[p_ind], arr[c_ind] = arr[c_ind], arr[p_ind]\n",
    "    return(c_ind)\n",
    "def order_statistic(arr, k):\n",
    "    left = 0\n",
    "    right = len(arr)\n",
    "    p_ind = 0\n",
    "    while True:\n",
    "        r = partition(arr, left, right)\n",
    "        if p_ind == r: return(arr[k])\n",
    "        else: p_ind = r\n",
    "        if p_ind > k:\n",
    "            right = p_ind\n",
    "        elif p_ind < k:\n",
    "            left = p_ind+1\n",
    "        else: return(arr[k])\n",
    "open('output.txt', 'w').write(str(order_statistic(arr, K-1)))"
   ]
  },
  {
   "cell_type": "code",
   "execution_count": 128,
   "metadata": {},
   "outputs": [
    {
     "name": "stdout",
     "output_type": "stream",
     "text": [
      "86\n",
      "94\n",
      "44\n",
      "34\n",
      "28\n",
      "92\n",
      "32\n",
      "73\n",
      "4\n",
      "18\n"
     ]
    }
   ],
   "source": [
    "for i in range(0, len(arr)):\n",
    "    print(arr[i])"
   ]
  },
  {
   "cell_type": "markdown",
   "metadata": {
    "scrolled": true
   },
   "source": [
    "def order_statistic(arr, k):\n",
    "    for i in range(len(arr)):\n",
    "        min_el = arr[i]\n",
    "        for j in range(len(arr)-i):\n",
    "            if arr[i+j] < min_el:\n",
    "                min_el = arr[i+j]\n",
    "                arr[i], arr[i+j] = arr[i+j], arr[i]\n",
    "        if i == k-1: return(arr, arr[i])"
   ]
  }
 ],
 "metadata": {
  "kernelspec": {
   "display_name": "Python 3",
   "language": "python",
   "name": "python3"
  },
  "language_info": {
   "codemirror_mode": {
    "name": "ipython",
    "version": 3
   },
   "file_extension": ".py",
   "mimetype": "text/x-python",
   "name": "python",
   "nbconvert_exporter": "python",
   "pygments_lexer": "ipython3",
   "version": "3.7.1"
  }
 },
 "nbformat": 4,
 "nbformat_minor": 2
}
