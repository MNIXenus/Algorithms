{
 "cells": [
  {
   "cell_type": "code",
   "execution_count": 40,
   "metadata": {},
   "outputs": [
    {
     "data": {
      "text/plain": [
       "'cab'"
      ]
     },
     "execution_count": 40,
     "metadata": {},
     "output_type": "execute_result"
    }
   ],
   "source": [
    "#str_1, str_0 = ['bcbcaaab', 'cbcaba']\n",
    "#str_1, str_0 = ['cbcaab', 'cbcaa']\n",
    "#str_0, str_1 = ['aaaabac', 'acab']\n",
    "#str_1, str_0 = ['ccaacba', 'baaccc']\n",
    "#str_0, str_1 = ['abababa', 'cbacacaa']\n",
    "str_1, str_0 = ['acacb', 'cbab']\n",
    "#input_file = open('input.txt', 'r')\n",
    "#str_1, str_0 = list(input_file.read().split())\n",
    "arr = [0]*(len(str_0)+1)\n",
    "path = [arr.copy()]\n",
    "answer = []\n",
    "for i in range(len(str_1)):\n",
    "    arr_prev = arr.copy()\n",
    "    max_ind = 0\n",
    "    for j in range(len(str_0)):\n",
    "        if str_0[j] == str_1[i]:\n",
    "            arr[j+1] = arr_prev[max_ind]+1\n",
    "            path[i][j+1] = max_ind\n",
    "        if arr_prev[max_ind] < arr_prev[j+1]:\n",
    "            max_ind = j+1\n",
    "    path.append(path[-1].copy())\n",
    "max_ind = 0\n",
    "for i in range(len(arr)):\n",
    "    if arr[max_ind] < arr[i]:\n",
    "        max_ind = i\n",
    "for i in range(len(path)-2, -1, -1):\n",
    "    if max_ind == 0: break\n",
    "    answer.append(max_ind)\n",
    "    max_ind = path[i][max_ind]\n",
    "answer = ''.join([str_0[j-1] for j in answer][::-1])\n",
    "#open('output.txt', 'w').write(answer)\n",
    "answer"
   ]
  }
 ],
 "metadata": {
  "kernelspec": {
   "display_name": "Python 3",
   "language": "python",
   "name": "python3"
  },
  "language_info": {
   "codemirror_mode": {
    "name": "ipython",
    "version": 3
   },
   "file_extension": ".py",
   "mimetype": "text/x-python",
   "name": "python",
   "nbconvert_exporter": "python",
   "pygments_lexer": "ipython3",
   "version": "3.7.1"
  }
 },
 "nbformat": 4,
 "nbformat_minor": 2
}
