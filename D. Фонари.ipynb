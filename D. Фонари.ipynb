{
 "cells": [
  {
   "cell_type": "code",
   "execution_count": 1,
   "metadata": {},
   "outputs": [],
   "source": [
    "import random\n",
    "def generator(pairs):\n",
    "    arr = [pairs]\n",
    "    for i in range(pairs*2):\n",
    "        arr.append(random.randint(0, 100))\n",
    "    return(arr)"
   ]
  },
  {
   "cell_type": "code",
   "execution_count": 42,
   "metadata": {},
   "outputs": [
    {
     "name": "stdout",
     "output_type": "stream",
     "text": [
      "[50, 53, 53, 55, 56, 57, 57, 57, 57, 58, 58, 59, 60, 61, 61, 63, 63, 65, 65, 65, 67, 67, 69, 70, 72, 74, 74, 74, 74, 75, 76, 77, 78, 78, 77, 78, 78, 78, 78, 77, 77, 77, 76, 77, 77, 78, 78, 76, 76, 77, 77, 78, 78, 77, 77, 76, 76, 76, 77, 74, 74, 73, 75, 75, 73, 73, 73, 74, 74, 73, 71, 70, 69, 68, 68, 67, 68, 68, 68, 66, 66, 66, 65, 64, 64, 63, 61, 61, 61, 61, 60, 59, 57, 57, 56, 53, 52, 52, 51, 49]\n"
     ]
    }
   ],
   "source": [
    "input_string = list(map(int, open('input.txt').read().split()))\n",
    "#input_string = generator(100)\n",
    "N = input_string[0]\n",
    "pairs = []\n",
    "for i in range(0, N*2, 2):\n",
    "    pairs.append((input_string[1:][i], input_string[1:][i+1]))\n",
    "street = [0]*100\n",
    "for i, j in pairs:\n",
    "    for k in range(i-j, i+j):\n",
    "        if k >= 0 and k < 100:\n",
    "            street[k] += 1\n",
    "open('output.txt', 'w').write(str(max(street)))"
   ]
  }
 ],
 "metadata": {
  "kernelspec": {
   "display_name": "Python 3",
   "language": "python",
   "name": "python3"
  },
  "language_info": {
   "codemirror_mode": {
    "name": "ipython",
    "version": 3
   },
   "file_extension": ".py",
   "mimetype": "text/x-python",
   "name": "python",
   "nbconvert_exporter": "python",
   "pygments_lexer": "ipython3",
   "version": "3.7.1"
  }
 },
 "nbformat": 4,
 "nbformat_minor": 2
}
