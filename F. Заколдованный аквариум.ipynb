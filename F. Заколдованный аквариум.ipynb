{
 "cells": [
  {
   "cell_type": "code",
   "execution_count": 3,
   "metadata": {},
   "outputs": [
    {
     "data": {
      "text/plain": [
       "()"
      ]
     },
     "execution_count": 3,
     "metadata": {},
     "output_type": "execute_result"
    }
   ],
   "source": [
    "import random\n",
    "def generator(gaps):\n",
    "    input_file = open(\"input.txt\", \"w\")\n",
    "    input_file.writelines('%(1)d %(2)d %(3)d\\n' % {'1':2, '2':3, '3':gaps})\n",
    "    for i in range(gaps):\n",
    "        a = random.random\n",
    "        b = random.randint(0, 10)\n",
    "        input_file.writelines('%(1)f %(2)f %(3)f\\n' % {'1':a()*b, '2':a()*b, '3':a()*b})\n",
    "    input_file.close()\n",
    "    return()\n",
    "generator(100)"
   ]
  },
  {
   "cell_type": "code",
   "execution_count": 1,
   "metadata": {},
   "outputs": [],
   "source": [
    "#Last\n",
    "def gaps_S(h):\n",
    "    S = 0\n",
    "    for i in gaps:\n",
    "        if i[1] < h:\n",
    "            if i[1]+i[2] < h: S += i[2]**2*V\n",
    "            else: S += i[2]*(h-i[1])*V\n",
    "    return(S)\n",
    "input_string = open('input.txt')\n",
    "V, M, N = list(map(float, input_string.readline().split()))\n",
    "gaps = []\n",
    "for i in range(int(N)):\n",
    "    gaps.append(list(map(float, input_string.readline().split())))\n",
    "h_min = 0\n",
    "h_max = 2*10e6\n",
    "h = h_max/2\n",
    "\n",
    "if gaps_S(h_max) < M: open('output.txt', 'w').write(str(-1))\n",
    "else:\n",
    "    while h_max - h_min > 1e-6:\n",
    "        if gaps_S(h) >= M:\n",
    "            h_max = h\n",
    "        elif gaps_S(h) < M:\n",
    "            h_min = h\n",
    "        h = h_min + (h_max - h_min)/2\n",
    "    open('output.txt', 'w').write(\"%.4f\" % h)"
   ]
  },
  {
   "cell_type": "code",
   "execution_count": null,
   "metadata": {},
   "outputs": [],
   "source": [
    "input_string = open('input.txt')\n",
    "V, M, N = list(map(float, input_string.readline().split()))\n",
    "gaps = []\n",
    "for i in range(int(N)):\n",
    "    gaps.append(list(map(float, input_string.readline().split())))\n",
    "highest_gap = gaps[0]\n",
    "for i in range(len(gaps)):\n",
    "    if highest_gap[1] < gaps[i][1]:\n",
    "        highest_gap = gaps[i]\n",
    "h_min = 0\n",
    "h_max = highest_gap[1]+highest_gap[2]\n",
    "h = h_max/2\n",
    "while True:\n",
    "    if gaps_S(h) > M:\n",
    "        h_max = h\n",
    "    elif gaps_S(h) < M:\n",
    "        h_min = h\n",
    "    else: break\n",
    "    h = h_min + (h_max - h_min)/2\n",
    "open('output.txt', 'w').write(\"%.4f\" % h)"
   ]
  },
  {
   "cell_type": "code",
   "execution_count": 141,
   "metadata": {},
   "outputs": [
    {
     "data": {
      "text/plain": [
       "6"
      ]
     },
     "execution_count": 141,
     "metadata": {},
     "output_type": "execute_result"
    }
   ],
   "source": [
    "#работает, но не проходит точность. Основана на сложении приращений потерь воды из каждой дыры.\n",
    "input_string = open('input.txt')\n",
    "V, M, N = list(map(int, input_string.readline().split()))\n",
    "gaps = []\n",
    "L = 0\n",
    "h = 0\n",
    "tg = 0\n",
    "for i in range(N):\n",
    "    gaps.append(list(map(float, input_string.readline().split())))\n",
    "while L < M:\n",
    "    h += 1e-4\n",
    "    tg = sum([i[2]*V for i in gaps if i[1] < h])\n",
    "    L += (1e-4)*tg\n",
    "open('output.txt', 'w').write(str(h)[:6])"
   ]
  },
  {
   "cell_type": "code",
   "execution_count": 2,
   "metadata": {},
   "outputs": [
    {
     "data": {
      "text/plain": [
       "6"
      ]
     },
     "execution_count": 2,
     "metadata": {},
     "output_type": "execute_result"
    }
   ],
   "source": [
    "input_string = open('input.txt')\n",
    "V, M, N = list(map(int, input_string.readline().split()))\n",
    "gaps = []\n",
    "for i in range(N):\n",
    "    gaps.append(list(map(float, input_string.readline().split())))\n",
    "h = 0\n",
    "a = 0\n",
    "L = max([i[1]+i[2] for i in gaps])\n",
    "while a < M/V and h < L:\n",
    "    h += 1e-6\n",
    "    a = sum([(h-i[1])*i[2] for i in gaps if i[1] < h])\n",
    "open('output.txt', 'w').write(\"%.4f\" % h)"
   ]
  },
  {
   "cell_type": "code",
   "execution_count": 6,
   "metadata": {},
   "outputs": [
    {
     "data": {
      "text/plain": [
       "6"
      ]
     },
     "execution_count": 6,
     "metadata": {},
     "output_type": "execute_result"
    }
   ],
   "source": [
    "input_string = open('input.txt')\n",
    "V, M, N = list(map(int, input_string.readline().split()))\n",
    "gaps = []\n",
    "for i in range(N):\n",
    "    gaps.append(list(map(float, input_string.readline().split())))\n",
    "h = 0\n",
    "a = 0\n",
    "while a < M/V:\n",
    "    h += 1\n",
    "    a = sum([(h-i[1])*i[2] for i in gaps if i[1] < h])\n",
    "open('output.txt', 'w').write(\"%.4f\" % h)"
   ]
  }
 ],
 "metadata": {
  "kernelspec": {
   "display_name": "Python 3",
   "language": "python",
   "name": "python3"
  },
  "language_info": {
   "codemirror_mode": {
    "name": "ipython",
    "version": 3
   },
   "file_extension": ".py",
   "mimetype": "text/x-python",
   "name": "python",
   "nbconvert_exporter": "python",
   "pygments_lexer": "ipython3",
   "version": "3.7.1"
  }
 },
 "nbformat": 4,
 "nbformat_minor": 2
}
