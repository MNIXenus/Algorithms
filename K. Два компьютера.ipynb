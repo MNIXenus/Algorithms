{
 "cells": [
  {
   "cell_type": "code",
   "execution_count": null,
   "metadata": {},
   "outputs": [],
   "source": [
    "#TL\n",
    "input_file = open('input.txt', 'r')\n",
    "arr = list(map(int, input_file.readline().split()))[1:]\n",
    "sum_arr = sum(arr)\n",
    "min_time_combin = sum_arr\n",
    "for i in range(2**len(arr)):\n",
    "    combin = list(map(int, (\"{0:0>\"+str(len(arr))+\"}\").format(bin(i)[2:])))\n",
    "    arr_0 = sum([combin[i]*arr[i] for i in range(len(arr))])\n",
    "    arr_1 = sum_arr-arr_0\n",
    "    time = max(arr_0, arr_1)\n",
    "    if min_time_combin > time: min_time_combin = time\n",
    "open('output.txt', 'w').write(str(min_time_combin))"
   ]
  },
  {
   "cell_type": "code",
   "execution_count": 16,
   "metadata": {
    "scrolled": true
   },
   "outputs": [],
   "source": [
    "#%load_ext memory_profiler\n",
    "#from memscript import main\n",
    "#%mprun -f memscript"
   ]
  },
  {
   "cell_type": "code",
   "execution_count": 15,
   "metadata": {},
   "outputs": [
    {
     "name": "stdout",
     "output_type": "stream",
     "text": [
      "peak memory: 62.47 MiB, increment: 0.02 MiB\n"
     ]
    }
   ],
   "source": [
    "%%memit\n",
    "import numpy as np\n",
    "input_file = open('input.txt', 'r')\n",
    "arr = np.array(list(map(int, input_file.readline().split()))[1:])\n",
    "sum_arr = np.sum(arr)\n",
    "a = np.array(np.arange(2**len(arr)//2), dtype = np.uint8)\n",
    "a = a.reshape(len(a), 1)\n",
    "combs = np.unpackbits(a, axis=1)\n",
    "pad = len(arr)-len(combs[0])\n",
    "combs = np.pad(combs, pad, 'constant', constant_values = 0)[pad:-pad, :-pad]\n",
    "pairs = np.vstack((sum_arr - np.sum(combs*arr, axis = 1), np.sum(combs*arr, axis = 1))).T\n",
    "answer = np.min(np.max(pairs, axis = 1))\n",
    "open('output.txt', 'w').write(str(answer))"
   ]
  },
  {
   "cell_type": "code",
   "execution_count": 17,
   "metadata": {},
   "outputs": [
    {
     "name": "stdout",
     "output_type": "stream",
     "text": [
      "peak memory: 62.60 MiB, increment: 0.00 MiB\n"
     ]
    },
    {
     "data": {
      "text/plain": [
       "3"
      ]
     },
     "execution_count": 17,
     "metadata": {},
     "output_type": "execute_result"
    }
   ],
   "source": [
    "%memit\n",
    "from itertools import compress\n",
    "input_file = open('input.txt', 'r')\n",
    "arr = list(map(int, input_file.readline().split()))[1:]\n",
    "max_arr = max(arr)\n",
    "sum_arr = sum(arr)\n",
    "min_time_combin = sum_arr\n",
    "x = []\n",
    "y = []\n",
    "for i in range(2**len(arr)//2):\n",
    "    combin = list(map(int, (\"{0:0>\"+str(len(arr))+\"}\").format(bin(i)[2:])))\n",
    "    arr_0 = sum(compress(arr, combin))\n",
    "    x.append(arr_0)\n",
    "    arr_1 = sum_arr-arr_0\n",
    "    y.append(arr_1)\n",
    "    time = max(arr_0, arr_1)\n",
    "    if min_time_combin > time: min_time_combin = time\n",
    "open('output.txt', 'w').write(str(min_time_combin))"
   ]
  },
  {
   "cell_type": "code",
   "execution_count": null,
   "metadata": {},
   "outputs": [],
   "source": [
    "#TL\n",
    "import numpy as np\n",
    "input_file = open('input.txt', 'r')\n",
    "arr = np.array(list(map(int, input_file.readline().split()))[1:])\n",
    "max_arr = np.max(arr)\n",
    "sum_arr = np.sum(arr)\n",
    "min_time_combin = sum_arr\n",
    "pad = len(arr)-len(np.unpackbits(np.array(2**len(arr)//2, dtype = np.uint8)))\n",
    "for i in range(2**len(arr)//2):\n",
    "    combin = np.unpackbits(np.array(i, dtype = np.uint8))\n",
    "    combin = np.pad(combin, pad, 'constant', constant_values = 0)[:-pad]\n",
    "    arr_0 = np.dot(arr, combin)\n",
    "    arr_1 = sum_arr-arr_0\n",
    "    time = max(arr_0, arr_1)\n",
    "    if min_time_combin > time: min_time_combin = time\n",
    "open('output.txt', 'w').write(str(min_time_combin))"
   ]
  },
  {
   "cell_type": "code",
   "execution_count": null,
   "metadata": {},
   "outputs": [],
   "source": []
  },
  {
   "cell_type": "code",
   "execution_count": null,
   "metadata": {},
   "outputs": [],
   "source": [
    "from matplotlib import pyplot as plt\n",
    "plt.plot(x)\n",
    "plt.plot(y)\n",
    "plt.show()"
   ]
  },
  {
   "cell_type": "code",
   "execution_count": null,
   "metadata": {},
   "outputs": [],
   "source": [
    "def sum_tuple(tup):\n",
    "    sum_tup = 0\n",
    "    for i in tup:\n",
    "        sum_tup += i[1]\n",
    "    return(sum_tup)\n",
    "input_file = open('input.txt', 'r')\n",
    "arr = list(map(int, input_file.readline().split()))\n",
    "arr = list(enumerate(sorted(arr[1:])[::-1]))\n",
    "comp_1, comp_2 = [], []\n",
    "for i in \n",
    "#print(answer)\n",
    "#open('output.txt', 'w').write(answer)"
   ]
  },
  {
   "cell_type": "code",
   "execution_count": 18,
   "metadata": {},
   "outputs": [
    {
     "name": "stdout",
     "output_type": "stream",
     "text": [
      "peak memory: 62.72 MiB, increment: 0.00 MiB\n"
     ]
    },
    {
     "data": {
      "text/plain": [
       "3"
      ]
     },
     "execution_count": 18,
     "metadata": {},
     "output_type": "execute_result"
    }
   ],
   "source": [
    "%memit\n",
    "input_file = open('input.txt', 'r')\n",
    "arr = list(map(int, input_file.readline().split()))\n",
    "arr = sorted(arr[1:])[::-1]\n",
    "comp_1, comp_2 = 0, 0\n",
    "for i in arr:\n",
    "    if comp_1 - comp_2 >= i:\n",
    "        comp_2 += i\n",
    "    elif comp_2 - comp_1 > i:\n",
    "        comp_1 += i\n",
    "    elif comp_1 >= comp_2:\n",
    "        comp_2 += i\n",
    "    else:\n",
    "        comp_1 += i\n",
    "answer = str(max(comp_1, comp_2))\n",
    "open('output.txt', 'w').write(answer)"
   ]
  },
  {
   "cell_type": "code",
   "execution_count": null,
   "metadata": {},
   "outputs": [],
   "source": [
    "input_file = open('input.txt', 'r')\n",
    "arr = list(map(int, input_file.readline().split()))\n",
    "comp_1, comp_2 = 0, 0\n",
    "arr = sorted(arr[1:])[::-1]\n",
    "if comp_1\n",
    "answer = str(max(comp_1, comp_2))\n",
    "open('output.txt', 'w').write(answer)"
   ]
  },
  {
   "cell_type": "code",
   "execution_count": null,
   "metadata": {},
   "outputs": [],
   "source": [
    "#7 10 3 5 6\n",
    "comp_1, comp_2, last"
   ]
  }
 ],
 "metadata": {
  "kernelspec": {
   "display_name": "Python 3",
   "language": "python",
   "name": "python3"
  },
  "language_info": {
   "codemirror_mode": {
    "name": "ipython",
    "version": 3
   },
   "file_extension": ".py",
   "mimetype": "text/x-python",
   "name": "python",
   "nbconvert_exporter": "python",
   "pygments_lexer": "ipython3",
   "version": "3.7.1"
  }
 },
 "nbformat": 4,
 "nbformat_minor": 2
}
