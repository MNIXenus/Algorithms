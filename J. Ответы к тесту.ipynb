{
 "cells": [
  {
   "cell_type": "code",
   "execution_count": null,
   "metadata": {},
   "outputs": [],
   "source": [
    "input_file = open('input.txt', 'r')\n",
    "P, Q = list(map(int, input_file.readline().split()))\n",
    "arr, answer = [], []\n",
    "for i in range(P):\n",
    "    arr.append([input_file.readline().replace(\"\\n\", \"\"), int(input_file.readline().replace(\"\\n\", \"\"))])\n",
    "arr = sorted(arr, key = lambda x: x[1])\n",
    "for i in range(Q):\n",
    "    answer.append([])\n",
    "for i in range(P-1):\n",
    "    for j in range(Q):\n",
    "        if arr[i][0][j] == arr[i+1][0][j]: continue\n",
    "        else: answer[j] = arr[i+1][0][j]\n",
    "for i in rane(Q-arr[-1][1]):\n",
    "    for j in range(Q):\n",
    "        if answer[j] == []:\n",
    "            if arr[-1][0][j] == '+': answer[j] = '-'\n",
    "            else: answer[j] = '+'\n",
    "            break\n",
    "for j in range(Q):\n",
    "    if answer[j] == []: answer[j] = arr[-1][0][j]\n",
    "ans = ''\n",
    "for i in answer:\n",
    "    ans += i\n",
    "open('output.txt', 'w').write(ans)"
   ]
  },
  {
   "cell_type": "code",
   "execution_count": null,
   "metadata": {},
   "outputs": [],
   "source": [
    "#ML c 10\n",
    "import itertools as it\n",
    "def overlap(variant):\n",
    "    for i in arr:\n",
    "        score = 0\n",
    "        for j in range(Q):\n",
    "            if variant[j] == i[0][j]:\n",
    "                score += 1\n",
    "        if score != i[1]:\n",
    "            return False\n",
    "    return True\n",
    "input_file = open('input.txt', 'r')\n",
    "P, Q = list(map(int, input_file.readline().split()))\n",
    "arr = []\n",
    "for i in range(P):\n",
    "    arr.append([input_file.readline().replace(\"\\n\", \"\"), int(input_file.readline().replace(\"\\n\", \"\"))])\n",
    "variants = []\n",
    "for i in it.combinations_with_replacement('+-', r = Q):\n",
    "    for j in it.permutations(i):\n",
    "        variants.append(j)\n",
    "variants = [''.join(i) for i in list(set(variants))]\n",
    "for i in variants:\n",
    "    if overlap(i):\n",
    "        answer = i\n",
    "        break\n",
    "open('output.txt', 'w').write(answer)"
   ]
  },
  {
   "cell_type": "code",
   "execution_count": 1,
   "metadata": {},
   "outputs": [
    {
     "ename": "ValueError",
     "evalue": "invalid literal for int() with base 10: 'ababaca'",
     "output_type": "error",
     "traceback": [
      "\u001b[1;31m---------------------------------------------------------------------------\u001b[0m",
      "\u001b[1;31mValueError\u001b[0m                                Traceback (most recent call last)",
      "\u001b[1;32m<ipython-input-1-a36cbfa90538>\u001b[0m in \u001b[0;36m<module>\u001b[1;34m\u001b[0m\n\u001b[0;32m      9\u001b[0m     \u001b[1;32mreturn\u001b[0m \u001b[1;32mTrue\u001b[0m\u001b[1;33m\u001b[0m\u001b[1;33m\u001b[0m\u001b[0m\n\u001b[0;32m     10\u001b[0m \u001b[0minput_file\u001b[0m \u001b[1;33m=\u001b[0m \u001b[0mopen\u001b[0m\u001b[1;33m(\u001b[0m\u001b[1;34m'input.txt'\u001b[0m\u001b[1;33m,\u001b[0m \u001b[1;34m'r'\u001b[0m\u001b[1;33m)\u001b[0m\u001b[1;33m\u001b[0m\u001b[1;33m\u001b[0m\u001b[0m\n\u001b[1;32m---> 11\u001b[1;33m \u001b[0mP\u001b[0m\u001b[1;33m,\u001b[0m \u001b[0mQ\u001b[0m \u001b[1;33m=\u001b[0m \u001b[0mlist\u001b[0m\u001b[1;33m(\u001b[0m\u001b[0mmap\u001b[0m\u001b[1;33m(\u001b[0m\u001b[0mint\u001b[0m\u001b[1;33m,\u001b[0m \u001b[0minput_file\u001b[0m\u001b[1;33m.\u001b[0m\u001b[0mreadline\u001b[0m\u001b[1;33m(\u001b[0m\u001b[1;33m)\u001b[0m\u001b[1;33m.\u001b[0m\u001b[0msplit\u001b[0m\u001b[1;33m(\u001b[0m\u001b[1;33m)\u001b[0m\u001b[1;33m)\u001b[0m\u001b[1;33m)\u001b[0m\u001b[1;33m\u001b[0m\u001b[1;33m\u001b[0m\u001b[0m\n\u001b[0m\u001b[0;32m     12\u001b[0m \u001b[0marr\u001b[0m \u001b[1;33m=\u001b[0m \u001b[1;33m[\u001b[0m\u001b[1;33m]\u001b[0m\u001b[1;33m\u001b[0m\u001b[1;33m\u001b[0m\u001b[0m\n\u001b[0;32m     13\u001b[0m \u001b[1;32mfor\u001b[0m \u001b[0mi\u001b[0m \u001b[1;32min\u001b[0m \u001b[0mrange\u001b[0m\u001b[1;33m(\u001b[0m\u001b[0mP\u001b[0m\u001b[1;33m)\u001b[0m\u001b[1;33m:\u001b[0m\u001b[1;33m\u001b[0m\u001b[1;33m\u001b[0m\u001b[0m\n",
      "\u001b[1;31mValueError\u001b[0m: invalid literal for int() with base 10: 'ababaca'"
     ]
    }
   ],
   "source": [
    "def overlap(variant):\n",
    "    for i in arr:\n",
    "        score = 0\n",
    "        for j in range(Q):\n",
    "            if variant[j] == i[0][j]:\n",
    "                score += 1\n",
    "        if score != i[1]:\n",
    "            return False\n",
    "    return True\n",
    "input_file = open('input.txt', 'r')\n",
    "P, Q = list(map(int, input_file.readline().split()))\n",
    "arr = []\n",
    "for i in range(P):\n",
    "    arr.append([input_file.readline().replace(\"\\n\", \"\"), int(input_file.readline().replace(\"\\n\", \"\"))])\n",
    "print(arr)\n",
    "for i in range(2**Q):\n",
    "    #j = (\"{0:0>\"+str(len(bin(2**Q-1)[2:]))+\"}\").format(bin(i)[2:]).replace('0', '-').replace('1', '+')\n",
    "    j = (\"{0:0>\"+str(len(bin(2**Q-1)[2:]))+\"}\").format(bin(i)[2:]).replace('0', '-').replace('1', '+')\n",
    "    if overlap(j):\n",
    "        answer = j\n",
    "        break\n",
    "open('output.txt', 'w').write(answer)"
   ]
  },
  {
   "cell_type": "code",
   "execution_count": 24,
   "metadata": {},
   "outputs": [
    {
     "name": "stdout",
     "output_type": "stream",
     "text": [
      "--\n",
      "-+\n",
      "+-\n",
      "++\n"
     ]
    }
   ],
   "source": [
    "for i in range(2**Q):\n",
    "    print((\"{0:0>\"+str(len(bin(Q**2-1)[2:]))+\"}\").format(bin(i)[2:]).replace('0', '-').replace('1', '+'))"
   ]
  }
 ],
 "metadata": {
  "kernelspec": {
   "display_name": "Python 3",
   "language": "python",
   "name": "python3"
  },
  "language_info": {
   "codemirror_mode": {
    "name": "ipython",
    "version": 3
   },
   "file_extension": ".py",
   "mimetype": "text/x-python",
   "name": "python",
   "nbconvert_exporter": "python",
   "pygments_lexer": "ipython3",
   "version": "3.7.1"
  }
 },
 "nbformat": 4,
 "nbformat_minor": 2
}
