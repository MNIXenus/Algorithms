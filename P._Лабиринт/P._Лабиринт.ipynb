{
 "cells": [
  {
   "cell_type": "code",
   "execution_count": 8,
   "metadata": {
    "scrolled": true
   },
   "outputs": [
    {
     "data": {
      "text/plain": [
       "2"
      ]
     },
     "execution_count": 8,
     "metadata": {},
     "output_type": "execute_result"
    }
   ],
   "source": [
    "#рабочее\n",
    "from queue import Queue\n",
    "\n",
    "class vtx():\n",
    "    def __init__(self, number, color = 0, d = float('inf'), parent = None):\n",
    "        self.parent = parent\n",
    "        self.color = color\n",
    "        self.d = d\n",
    "        self.number = number\n",
    "\n",
    "def BFS(graph, adj, start, goal):\n",
    "    start.color = 1\n",
    "    start.d = 0\n",
    "    queue = Queue()\n",
    "    queue.put(start)\n",
    "    while not queue.empty():\n",
    "        u = queue.get().number\n",
    "        for i in adj[u]:\n",
    "            if graph[i].color == 0:\n",
    "                graph[i].color = 1\n",
    "                graph[i].d = graph[u].d + 1\n",
    "                graph[i].parent = graph[u]\n",
    "                queue.put(graph[i])\n",
    "        graph[u].color = 2\n",
    "    return(graph[goal].d)\n",
    "\n",
    "\n",
    "input_file = open('input.txt', 'r').read().split()\n",
    "N = int(input_file[0])\n",
    "start = N*int(input_file[2])+int(input_file[1])-N-1\n",
    "goal = N*int(input_file[4])+int(input_file[3])-N-1\n",
    "strs = ['#'*N]\n",
    "for i in input_file[5:]:\n",
    "    strs.append(i)\n",
    "strs.append('#'*N)\n",
    "strs = ['#'+i+'#' for i in strs]\n",
    "\n",
    "graph = [vtx(i) for i in range(N**2)]\n",
    "adj = {i:[] for i in range(N**2)}\n",
    "for i in range(1, N+1):\n",
    "    for j in range(1, N+1):\n",
    "        for k in [-1, 1]:\n",
    "            if strs[i][j] != '#':\n",
    "                if strs[i+k][j] != '#':\n",
    "                    adj[N*i+j-N-1].append(N*(i+k)+j-N-1)\n",
    "                if strs[i][j+k] != '#':\n",
    "                    adj[N*i+j-N-1].append(N*i+j+k-N-1)\n",
    "                    \n",
    "answer = BFS(graph, adj, graph[start], goal)\n",
    "open('output.txt', 'w').write(str(answer))"
   ]
  },
  {
   "cell_type": "code",
   "execution_count": 1,
   "metadata": {},
   "outputs": [
    {
     "data": {
      "text/plain": [
       "2"
      ]
     },
     "execution_count": 1,
     "metadata": {},
     "output_type": "execute_result"
    }
   ],
   "source": [
    "from queue import Queue\n",
    "\n",
    "class vtx():\n",
    "    def __init__(self, number, color = 0, d = float('inf')):\n",
    "        self.color = color\n",
    "        self.d = d\n",
    "        self.number = number\n",
    "\n",
    "def BFS(graph, adj, start, goal):\n",
    "    start.color = 1\n",
    "    start.d = 0\n",
    "    queue = Queue()\n",
    "    queue.put(start)\n",
    "    while not queue.empty():\n",
    "        u = queue.get().number\n",
    "        for i in adj[u]:\n",
    "            if graph[i].color == 0:\n",
    "                graph[i].color = 1\n",
    "                graph[i].d = graph[u].d + 1\n",
    "                queue.put(graph[i])\n",
    "        graph[u].color = 2\n",
    "    return(graph[goal].d)\n",
    "\n",
    "\n",
    "input_file = open('input.txt', 'r').read().split()\n",
    "N = int(input_file[0])\n",
    "start = N*int(input_file[2])+int(input_file[1])-N-1\n",
    "goal = N*int(input_file[4])+int(input_file[3])-N-1\n",
    "strs = ['#'*N]\n",
    "for i in input_file[5:]:\n",
    "    strs.append(i)\n",
    "strs.append('#'*N)\n",
    "strs = ['#'+i+'#' for i in strs]\n",
    "\n",
    "graph = [vtx(i) for i in range(N**2)]\n",
    "adj = {i:[] for i in range(N**2)}\n",
    "for i in range(1, N+1):\n",
    "    for j in range(1, N+1):\n",
    "        for k in [-1, 1]:\n",
    "            if strs[i][j] != '#':\n",
    "                if strs[i+k][j] != '#':\n",
    "                    adj[N*i+j-N-1].append(N*(i+k)+j-N-1)\n",
    "                if strs[i][j+k] != '#':\n",
    "                    adj[N*i+j-N-1].append(N*i+j+k-N-1)\n",
    "                    \n",
    "answer = BFS(graph, adj, graph[start], goal)\n",
    "open('output.txt', 'w').write(str(answer))"
   ]
  }
 ],
 "metadata": {
  "kernelspec": {
   "display_name": "Python 3",
   "language": "python",
   "name": "python3"
  },
  "language_info": {
   "codemirror_mode": {
    "name": "ipython",
    "version": 3
   },
   "file_extension": ".py",
   "mimetype": "text/x-python",
   "name": "python",
   "nbconvert_exporter": "python",
   "pygments_lexer": "ipython3",
   "version": "3.7.1"
  }
 },
 "nbformat": 4,
 "nbformat_minor": 2
}
